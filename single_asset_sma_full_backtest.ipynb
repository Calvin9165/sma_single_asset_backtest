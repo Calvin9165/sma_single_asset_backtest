{
 "cells": [
  {
   "cell_type": "markdown",
   "metadata": {},
   "source": [
    "### Loading in the Data and removing unecessary columns"
   ]
  },
  {
   "cell_type": "code",
   "execution_count": 2,
   "metadata": {},
   "outputs": [],
   "source": [
    "import pandas as pd\n",
    "import numpy as np\n",
    "import matplotlib.pyplot as plt\n",
    "\n",
    "\n",
    "securities_df = pd.read_csv('spy_tlt_gld.csv')\n",
    "securities_df['Date'] = pd.to_datetime(securities_df['Date'], dayfirst=False)\n",
    "securities_df.set_index('Date', inplace=True)\n",
    "\n",
    "securities_df.drop({'TLT', 'GLD'}, axis=1, inplace=True)\n",
    "\n",
    "securities_pct = securities_df.pct_change()\n",
    "securities_pct.fillna(0, inplace=True)\n"
   ]
  },
  {
   "cell_type": "markdown",
   "metadata": {},
   "source": [
    "### Defining the period to use for the moving average and creating a new column that contains the value of the moving average"
   ]
  },
  {
   "cell_type": "code",
   "execution_count": null,
   "metadata": {},
   "outputs": [],
   "source": [
    "ma_period = 200\n",
    "\n",
    "\n",
    "securities_df['sma'] = securities_df[sma_asset].rolling(ma_period).mean()\n",
    "\n",
    "# Adjusting the DataFrames to only include data once the moving average is calculated (which takes 200 rows)\n",
    "securities_df = securities_df[sma_lookback:].copy()\n",
    "securities_pct = securities_pct[sma_lookback:].copy()"
   ]
  }
 ],
 "metadata": {
  "kernelspec": {
   "display_name": "Python 3",
   "language": "python",
   "name": "python3"
  },
  "language_info": {
   "codemirror_mode": {
    "name": "ipython",
    "version": 3
   },
   "file_extension": ".py",
   "mimetype": "text/x-python",
   "name": "python",
   "nbconvert_exporter": "python",
   "pygments_lexer": "ipython3",
   "version": "3.7.6"
  }
 },
 "nbformat": 4,
 "nbformat_minor": 4
}
